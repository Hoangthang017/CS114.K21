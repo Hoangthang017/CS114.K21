{
  "nbformat": 4,
  "nbformat_minor": 0,
  "metadata": {
    "colab": {
      "name": "Cut_Face.ipynb",
      "provenance": [],
      "collapsed_sections": [],
      "authorship_tag": "ABX9TyPa/skyRzfYLkZ366M00DyZ",
      "include_colab_link": true
    },
    "kernelspec": {
      "name": "python3",
      "display_name": "Python 3"
    }
  },
  "cells": [
    {
      "cell_type": "markdown",
      "metadata": {
        "id": "view-in-github",
        "colab_type": "text"
      },
      "source": [
        "<a href=\"https://colab.research.google.com/github/Hoangthang017/CS114.K21/blob/master/FaceMask_DPT/Cut_Face.ipynb\" target=\"_parent\"><img src=\"https://colab.research.google.com/assets/colab-badge.svg\" alt=\"Open In Colab\"/></a>"
      ]
    },
    {
      "cell_type": "code",
      "metadata": {
        "id": "nXCsw2A9J8Sn",
        "colab_type": "code",
        "colab": {
          "base_uri": "https://localhost:8080/",
          "height": 121
        },
        "outputId": "0e4c9755-6186-418b-bf88-5d33aa907eda"
      },
      "source": [
        "from google.colab import drive\n",
        "drive.mount('/content/drive')"
      ],
      "execution_count": null,
      "outputs": [
        {
          "output_type": "stream",
          "text": [
            "Go to this URL in a browser: https://accounts.google.com/o/oauth2/auth?client_id=947318989803-6bn6qk8qdgf4n4g3pfee6491hc0brc4i.apps.googleusercontent.com&redirect_uri=urn%3aietf%3awg%3aoauth%3a2.0%3aoob&response_type=code&scope=email%20https%3a%2f%2fwww.googleapis.com%2fauth%2fdocs.test%20https%3a%2f%2fwww.googleapis.com%2fauth%2fdrive%20https%3a%2f%2fwww.googleapis.com%2fauth%2fdrive.photos.readonly%20https%3a%2f%2fwww.googleapis.com%2fauth%2fpeopleapi.readonly\n",
            "\n",
            "Enter your authorization code:\n",
            "··········\n",
            "Mounted at /content/drive\n"
          ],
          "name": "stdout"
        }
      ]
    },
    {
      "cell_type": "code",
      "metadata": {
        "id": "DnO_jqotKKYt",
        "colab_type": "code",
        "colab": {}
      },
      "source": [
        "from imutils import paths\n",
        "import os\n",
        "import cv2\n",
        "import numpy as np\n",
        "import matplotlib\n",
        "from google.colab.patches import cv2_imshow"
      ],
      "execution_count": null,
      "outputs": []
    },
    {
      "cell_type": "code",
      "metadata": {
        "id": "XTYkeBKXKCEy",
        "colab_type": "code",
        "colab": {}
      },
      "source": [
        "# load tool nhận nhận khuôn mặt của openCV\n",
        "face_cascade = cv2.CascadeClassifier('/content/drive/My Drive/CS114/FaceMask/Model_LR/haarcascade_frontalface_default.xml')"
      ],
      "execution_count": null,
      "outputs": []
    },
    {
      "cell_type": "code",
      "metadata": {
        "id": "TBuBJgtHJlvR",
        "colab_type": "code",
        "colab": {}
      },
      "source": [
        "# Vòng lặp để load dữ liệu \n",
        "i = 214\n",
        "\n",
        "path = '/content/drive/My Drive/picture'\n",
        "FJoin = os.path.join\n",
        "imagePaths = [FJoin(path, f) for f in os.listdir(path)]\n",
        "\n",
        "print(imagePaths)\n",
        "\n",
        "for imagePath in imagePaths:\n",
        "  print(imagePath)\n",
        "  # load hình \n",
        "  image = cv2.imread(imagePath)\n",
        "  cv2_imshow(cv2.resize(image,(224,224)))\n",
        "  # cắt mặt\n",
        "  faces = face_cascade.detectMultiScale(image, 1.3, 5)\n",
        "  if (len(faces) != 0):\n",
        "    for (x,y,w,h) in faces:\n",
        "      face = image[y:y+h,x:x+w]\n",
        "      cv2_imshow(face)\n",
        "      n = input()\n",
        "      if (n == \"ok\"):\n",
        "        i += 1\n",
        "        cv2.imwrite(\"/content/drive/My Drive/CS114/FaceMask/FaceMask_LogicticsRegression/Datasets/Without_mask/wihtout_mask (\"+(str(i))+\").png\",face)\n",
        "\n",
        "  print(\"done \",i)"
      ],
      "execution_count": null,
      "outputs": []
    },
    {
      "cell_type": "code",
      "metadata": {
        "id": "uAwvBNjRPIDD",
        "colab_type": "code",
        "colab": {}
      },
      "source": [
        ""
      ],
      "execution_count": null,
      "outputs": []
    }
  ]
}