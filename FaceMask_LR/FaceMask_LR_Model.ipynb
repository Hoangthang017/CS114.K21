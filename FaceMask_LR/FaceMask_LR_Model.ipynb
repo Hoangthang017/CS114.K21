{
  "nbformat": 4,
  "nbformat_minor": 0,
  "metadata": {
    "colab": {
      "name": "FaceMask_LR_Model.ipynb",
      "provenance": [],
      "collapsed_sections": [],
      "toc_visible": true,
      "authorship_tag": "ABX9TyNSyVnCoRSa0B8lGU16E0Fc",
      "include_colab_link": true
    },
    "kernelspec": {
      "name": "python3",
      "display_name": "Python 3"
    }
  },
  "cells": [
    {
      "cell_type": "markdown",
      "metadata": {
        "id": "view-in-github",
        "colab_type": "text"
      },
      "source": [
        "<a href=\"https://colab.research.google.com/github/Hoangthang017/CS114.K21/blob/master/FaceMask_LR/FaceMask_LR_Model.ipynb\" target=\"_parent\"><img src=\"https://colab.research.google.com/assets/colab-badge.svg\" alt=\"Open In Colab\"/></a>"
      ]
    },
    {
      "cell_type": "markdown",
      "metadata": {
        "id": "qsNMaY8f0mp-",
        "colab_type": "text"
      },
      "source": [
        "#**Xây dựng model**"
      ]
    },
    {
      "cell_type": "markdown",
      "metadata": {
        "id": "TW5rhsCO0eTB",
        "colab_type": "text"
      },
      "source": [
        "##**Mount drive**"
      ]
    },
    {
      "cell_type": "code",
      "metadata": {
        "id": "Xqg9Yk7hvT7a",
        "colab_type": "code",
        "colab": {
          "base_uri": "https://localhost:8080/",
          "height": 34
        },
        "outputId": "b58b260d-be66-4564-d87d-2502f638f265"
      },
      "source": [
        "from google.colab import drive\n",
        "drive.mount('/content/drive')"
      ],
      "execution_count": null,
      "outputs": [
        {
          "output_type": "stream",
          "text": [
            "Drive already mounted at /content/drive; to attempt to forcibly remount, call drive.mount(\"/content/drive\", force_remount=True).\n"
          ],
          "name": "stdout"
        }
      ]
    },
    {
      "cell_type": "markdown",
      "metadata": {
        "id": "q9DfO4YX0YAM",
        "colab_type": "text"
      },
      "source": [
        "##**Các thư viện được sử dụng trong bài**"
      ]
    },
    {
      "cell_type": "code",
      "metadata": {
        "id": "ft0n3Yhtvtx9",
        "colab_type": "code",
        "colab": {}
      },
      "source": [
        "# import các thư viện cần dùng\n",
        "from sklearn.model_selection import train_test_split\n",
        "from sklearn.linear_model import LogisticRegression\n",
        "from sklearn.metrics import classification_report\n",
        "from imutils import paths\n",
        "import cv2\n",
        "import numpy as np\n",
        "import matplotlib.pyplot as plt\n",
        "from sklearn.tree import DecisionTreeClassifier\n",
        "from sklearn.ensemble import RandomForestClassifier"
      ],
      "execution_count": null,
      "outputs": []
    },
    {
      "cell_type": "markdown",
      "metadata": {
        "id": "pNSUJPGCz7A4",
        "colab_type": "text"
      },
      "source": [
        "##**Load data từ Google Drive và tiền xử lí nó**"
      ]
    },
    {
      "cell_type": "markdown",
      "metadata": {
        "id": "iKqx1O090EV3",
        "colab_type": "text"
      },
      "source": [
        "###**Lấy đường dẫn file chưa data và khởi tạo 2 list data và label**\n",
        "\n",
        "- Dùng hàm list_images của thư viện paths để lấy tất cả link của ảnh chứa trong folder \n",
        "- Biến Mask  và Without_mask dùng để đếm số lượng từng loại trong dataset"
      ]
    },
    {
      "cell_type": "code",
      "metadata": {
        "id": "3FS_R5rxvkr7",
        "colab_type": "code",
        "colab": {
          "base_uri": "https://localhost:8080/",
          "height": 34
        },
        "outputId": "98e4751d-df33-4ea7-a281-1933aa356311"
      },
      "source": [
        "# load dataset \n",
        "print(\" loading images...\")\n",
        "\n",
        "# lấy link ảnh có khẩu trang và không có khẩu trang\n",
        "imagePaths_Mask = list(paths.list_images('/content/drive/My Drive/CS114/FaceMask/FaceMask_LogicticsRegression/Datasets/Mask'))\n",
        "imagePaths_No_Mask =  list(paths.list_images('/content/drive/My Drive/CS114/FaceMask/FaceMask_LogicticsRegression/Datasets/Without_mask'))\n",
        "\n",
        "# hợp nhất 2 link vào 1 file\n",
        "imagePaths = imagePaths_Mask + imagePaths_No_Mask\n",
        "\n",
        "# khởi tạo dữ liệu\n",
        "data = []\n",
        "\n",
        "# khởi tạo label ứng với dữ liệu\n",
        "labels = []\n",
        "\n",
        "# số lượng Mask vs Without_mask\n",
        "Mask = 0\n",
        "Without_mask = 0"
      ],
      "execution_count": null,
      "outputs": [
        {
          "output_type": "stream",
          "text": [
            " loading images...\n"
          ],
          "name": "stdout"
        }
      ]
    },
    {
      "cell_type": "markdown",
      "metadata": {
        "id": "vKdNLEZl0OGc",
        "colab_type": "text"
      },
      "source": [
        "##**Load từng ảnh từ file và preprocess nó**\n",
        "- Load hình ảnh từ link đã lấy được \n",
        "- Tiến hành resize ảnh về 32x32 nhằm giảm số lượng feature cho model Logictics Regression\n",
        "- Biến đổi ảnh này từ mảng 3 chiều thành 1 vector bằng hàm flatten của thư viện numpy\n",
        "  - ứng với mỗi giá trị trong vector sẽ là 1 feature trong model"
      ]
    },
    {
      "cell_type": "code",
      "metadata": {
        "id": "SHR4Lj9NvwJo",
        "colab_type": "code",
        "colab": {}
      },
      "source": [
        "# Vòng lặp để load dữ liệu \n",
        "\n",
        "for imagePath in imagePaths:\n",
        "\t# lấy nhãn từ đường dẫn tệp\n",
        "\tlabel = imagePath.split(\"/\")[-2]\n",
        "\n",
        "\t# load hình ảnh \n",
        "\timage = cv2.imread(imagePath)\n",
        "\t\n",
        "\t# preprocess ảnh\n",
        "\timage = cv2.resize(image,(32,32)).flatten()\n",
        "\t\n",
        "  # đẩy dữ liệu vào data và label \n",
        "\tdata.append(image)\n",
        " \n",
        "\t# Gán label\n",
        "\tif (label == \"Mask\"):\n",
        "\t\t\tlabel = 1\n",
        "\t\t\tMask += 1\n",
        "\telse:\n",
        "\t\t\tlabel = 0\n",
        "\t\t\tWithout_mask += 1\n",
        "\n",
        "\t# đẩy label vào\n",
        "\tlabels.append(label)"
      ],
      "execution_count": null,
      "outputs": []
    },
    {
      "cell_type": "markdown",
      "metadata": {
        "id": "2vQh5dTkEare",
        "colab_type": "text"
      },
      "source": [
        "##**Biểu đồ thể hiện số lượng data**"
      ]
    },
    {
      "cell_type": "code",
      "metadata": {
        "id": "6O9VJYBtDQwx",
        "colab_type": "code",
        "colab": {
          "base_uri": "https://localhost:8080/",
          "height": 296
        },
        "outputId": "4e23b456-45cd-455e-efd4-500da4d98a84"
      },
      "source": [
        "# Biểu đồ thể hiện số lượng data \n",
        "Label = [\"Mask\",\"Without_mask\"]\n",
        "Values = [Mask,Without_mask]\n",
        "\n",
        "plt.bar(Label,Values)\n",
        "plt.title(\"Dataset\")\n",
        "plt.xlabel(\"Label\")\n",
        "plt.ylabel(\"Values\")\n",
        "\n",
        "plt.show()"
      ],
      "execution_count": null,
      "outputs": [
        {
          "output_type": "display_data",
          "data": {
            "image/png": "[encoded data removed]",
            "text/plain": [
              "<Figure size 432x288 with 1 Axes>"
            ]
          },
          "metadata": {
            "tags": [],
            "needs_background": "light"
          }
        }
      ]
    },
    {
      "cell_type": "markdown",
      "metadata": {
        "id": "RRVAJAANzyql",
        "colab_type": "text"
      },
      "source": [
        "##**Chuyển data và label sang dạng mảng**"
      ]
    },
    {
      "cell_type": "code",
      "metadata": {
        "id": "h-JLUE0Vv7le",
        "colab_type": "code",
        "colab": {
          "base_uri": "https://localhost:8080/",
          "height": 151
        },
        "outputId": "2956444a-9caa-4ecf-ba4b-82543d10d10f"
      },
      "source": [
        "# chuyển label và data sang dạng mảng \n",
        "labels = np.array(labels)\n",
        "data = np.array(data)\n",
        "\n",
        "print(data)\n",
        "print(data.shape)"
      ],
      "execution_count": null,
      "outputs": [
        {
          "output_type": "stream",
          "text": [
            "[[ 26  35  45 ...  42  52  60]\n",
            " [  8   9  13 ...  72  96 126]\n",
            " [ 24  20  19 ... 114  91  75]\n",
            " ...\n",
            " [169 156 170 ... 173 183 200]\n",
            " [198 142 117 ... 162 187 225]\n",
            " [226 213 219 ...  50  57  86]]\n",
            "(485, 3072)\n"
          ],
          "name": "stdout"
        }
      ]
    },
    {
      "cell_type": "markdown",
      "metadata": {
        "id": "8SR7e3pCzsw_",
        "colab_type": "text"
      },
      "source": [
        "##**Chia dữ liệu thành 2 phần train và test**\n",
        "- chia data thành 2 phần nhằm đánh giá model không bị overfiting "
      ]
    },
    {
      "cell_type": "code",
      "metadata": {
        "id": "HVkhpzTYwI5-",
        "colab_type": "code",
        "colab": {}
      },
      "source": [
        "# chia đữ liệu thành 75% để train và 25% để test\n",
        "(trainX, testX, trainY, testY) = train_test_split(data, labels, test_size=0.25,stratify=labels,random_state=1)"
      ],
      "execution_count": null,
      "outputs": []
    },
    {
      "cell_type": "code",
      "metadata": {
        "id": "5Kk-xK_NwMe2",
        "colab_type": "code",
        "colab": {
          "base_uri": "https://localhost:8080/",
          "height": 168
        },
        "outputId": "b46ac6b2-dd7b-41ac-cea7-1950ecc9e039"
      },
      "source": [
        "print(trainX.shape)\n",
        "print(testX.shape)\n",
        "print(trainX)"
      ],
      "execution_count": null,
      "outputs": [
        {
          "output_type": "stream",
          "text": [
            "(363, 3072)\n",
            "(122, 3072)\n",
            "[[ 47  50  66 ...  26  15  21]\n",
            " [146 156 183 ...  58  61  70]\n",
            " [  5  10  21 ...  10  25  26]\n",
            " ...\n",
            " [ 46 205 235 ...  19  27 176]\n",
            " [161 160 180 ...  11  12  16]\n",
            " [159 142  97 ...  17  24  39]]\n"
          ],
          "name": "stdout"
        }
      ]
    },
    {
      "cell_type": "markdown",
      "metadata": {
        "id": "UL7k8zelzkvx",
        "colab_type": "text"
      },
      "source": [
        "\n",
        "##**Training và đánh giá model**\n",
        "- Chọn model thuộc Binary Classification bởi vì label có dạng 0 và 1 \n",
        "- Các model Binary Classification được sử dụng trong bài :\n",
        "  -  Decision Tree\n",
        "  - Random Forest\n",
        "  - Logictic Regression\n",
        "- Tiến hành training và đánh giá model thông qua hàm classification_report của thư viện sklearn\n",
        "- Chọn ra model có accuracy cao nhất để tiến hành predict với ảnh thực tế"
      ]
    },
    {
      "cell_type": "code",
      "metadata": {
        "id": "H7WExQ9fqpHr",
        "colab_type": "code",
        "colab": {
          "base_uri": "https://localhost:8080/",
          "height": 168
        },
        "outputId": "340e5a35-06eb-4e3a-ec5c-11d7f0b30514"
      },
      "source": [
        "# Model Decision Tree\n",
        "Model_DT = DecisionTreeClassifier()\n",
        "Model_DT.fit(trainX,trainY)\n",
        "print(classification_report(testY,Model_DT.predict(testX)))"
      ],
      "execution_count": null,
      "outputs": [
        {
          "output_type": "stream",
          "text": [
            "              precision    recall  f1-score   support\n",
            "\n",
            "           0       0.90      0.89      0.89        71\n",
            "           1       0.85      0.86      0.85        51\n",
            "\n",
            "    accuracy                           0.88       122\n",
            "   macro avg       0.87      0.88      0.87       122\n",
            "weighted avg       0.88      0.88      0.88       122\n",
            "\n"
          ],
          "name": "stdout"
        }
      ]
    },
    {
      "cell_type": "code",
      "metadata": {
        "id": "Q6qK3pzQq_oL",
        "colab_type": "code",
        "colab": {
          "base_uri": "https://localhost:8080/",
          "height": 168
        },
        "outputId": "ab2fc21a-3cf5-4d18-e939-0574d282ca5c"
      },
      "source": [
        "# Model Random Forest\n",
        "Model_RF = RandomForestClassifier()\n",
        "Model_RF.fit(trainX,trainY)\n",
        "print(classification_report(testY,Model_RF.predict(testX)))"
      ],
      "execution_count": null,
      "outputs": [
        {
          "output_type": "stream",
          "text": [
            "              precision    recall  f1-score   support\n",
            "\n",
            "           0       0.96      0.94      0.95        71\n",
            "           1       0.92      0.94      0.93        51\n",
            "\n",
            "    accuracy                           0.94       122\n",
            "   macro avg       0.94      0.94      0.94       122\n",
            "weighted avg       0.94      0.94      0.94       122\n",
            "\n"
          ],
          "name": "stdout"
        }
      ]
    },
    {
      "cell_type": "code",
      "metadata": {
        "id": "2VgB_cDwwPxK",
        "colab_type": "code",
        "colab": {
          "base_uri": "https://localhost:8080/",
          "height": 302
        },
        "outputId": "cbaf46a7-76d4-4682-e957-29ccb300482d"
      },
      "source": [
        "# Model Logictic Regression\n",
        "model_Logic = LogisticRegression()\n",
        "model_Logic.fit(trainX,trainY)\n",
        "print(classification_report(testY, model_Logic.predict(testX)))"
      ],
      "execution_count": null,
      "outputs": [
        {
          "output_type": "stream",
          "text": [
            "              precision    recall  f1-score   support\n",
            "\n",
            "           0       0.99      0.99      0.99        71\n",
            "           1       0.98      0.98      0.98        51\n",
            "\n",
            "    accuracy                           0.98       122\n",
            "   macro avg       0.98      0.98      0.98       122\n",
            "weighted avg       0.98      0.98      0.98       122\n",
            "\n"
          ],
          "name": "stdout"
        },
        {
          "output_type": "stream",
          "text": [
            "/usr/local/lib/python3.6/dist-packages/sklearn/linear_model/_logistic.py:940: ConvergenceWarning: lbfgs failed to converge (status=1):\n",
            "STOP: TOTAL NO. of ITERATIONS REACHED LIMIT.\n",
            "\n",
            "Increase the number of iterations (max_iter) or scale the data as shown in:\n",
            "    https://scikit-learn.org/stable/modules/preprocessing.html\n",
            "Please also refer to the documentation for alternative solver options:\n",
            "    https://scikit-learn.org/stable/modules/linear_model.html#logistic-regression\n",
            "  extra_warning_msg=_LOGISTIC_SOLVER_CONVERGENCE_MSG)\n"
          ],
          "name": "stderr"
        }
      ]
    },
    {
      "cell_type": "markdown",
      "metadata": {
        "id": "FqI-MeM_zd-V",
        "colab_type": "text"
      },
      "source": [
        "##**Save Model**\n",
        "- Lưu model để thuận tiện cho việc sử dụng"
      ]
    },
    {
      "cell_type": "code",
      "metadata": {
        "id": "nl5CGdQTxyQP",
        "colab_type": "code",
        "colab": {}
      },
      "source": [
        "import pickle\n",
        "f = open('/content/drive/My Drive/CS114/FaceMask/FaceMask_LogicticsRegression/Model_LR/FaceDataset.pkl', 'wb')\n",
        "pickle.dump(model_Logic, f)"
      ],
      "execution_count": null,
      "outputs": []
    },
    {
      "cell_type": "markdown",
      "metadata": {
        "id": "bVDxcJsdid_v",
        "colab_type": "text"
      },
      "source": [
        "##**Link tham khảo**\n",
        "https://towardsdatascience.com/classifying-cat-pics-with-a-logistic-regression-model-e35dfb9159bb\n",
        "https://numpy.org/doc/stable/reference/generated/numpy.ndarray.flatten.html\n"
      ]
    }
  ]
}