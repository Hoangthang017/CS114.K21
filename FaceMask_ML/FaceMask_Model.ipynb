{
  "nbformat": 4,
  "nbformat_minor": 0,
  "metadata": {
    "colab": {
      "name": "FaceMask_Model.ipynb",
      "provenance": [],
      "collapsed_sections": [],
      "authorship_tag": "ABX9TyMxid278EuW8QuTkuk2KSbn",
      "include_colab_link": true
    },
    "kernelspec": {
      "name": "python3",
      "display_name": "Python 3"
    }
  },
  "cells": [
    {
      "cell_type": "markdown",
      "metadata": {
        "id": "view-in-github",
        "colab_type": "text"
      },
      "source": [
        "<a href=\"https://colab.research.google.com/github/Hoangthang017/CS114.K21/blob/master/FaceMask_ML/FaceMask_Model.ipynb\" target=\"_parent\"><img src=\"https://colab.research.google.com/assets/colab-badge.svg\" alt=\"Open In Colab\"/></a>"
      ]
    },
    {
      "cell_type": "markdown",
      "metadata": {
        "id": "qsNMaY8f0mp-",
        "colab_type": "text"
      },
      "source": [
        "#**Xây dựng model**"
      ]
    },
    {
      "cell_type": "markdown",
      "metadata": {
        "id": "TW5rhsCO0eTB",
        "colab_type": "text"
      },
      "source": [
        "##**Mount drive**"
      ]
    },
    {
      "cell_type": "code",
      "metadata": {
        "id": "Xqg9Yk7hvT7a",
        "colab_type": "code",
        "colab": {
          "base_uri": "https://localhost:8080/",
          "height": 34
        },
        "outputId": "fb7864a3-b88f-48ad-f912-d1c6a20b4820"
      },
      "source": [
        "from google.colab import drive\n",
        "drive.mount('/content/drive')"
      ],
      "execution_count": 200,
      "outputs": [
        {
          "output_type": "stream",
          "text": [
            "Drive already mounted at /content/drive; to attempt to forcibly remount, call drive.mount(\"/content/drive\", force_remount=True).\n"
          ],
          "name": "stdout"
        }
      ]
    },
    {
      "cell_type": "markdown",
      "metadata": {
        "id": "q9DfO4YX0YAM",
        "colab_type": "text"
      },
      "source": [
        "##**Các thư viện được sử dụng trong bài**"
      ]
    },
    {
      "cell_type": "code",
      "metadata": {
        "id": "ft0n3Yhtvtx9",
        "colab_type": "code",
        "colab": {}
      },
      "source": [
        "# import các thư viện cần dùng\n",
        "\n",
        "# các thư viện dùng để load và xử lí dữ liệu\n",
        "from imutils import paths\n",
        "import cv2\n",
        "import numpy as np\n",
        "import matplotlib.pyplot as plt\n",
        "\n",
        "# Dùng để tăng dữ liệu trên dữ liệu đã có sẵn\n",
        "from tensorflow.keras.preprocessing.image import ImageDataGenerator\n",
        "\n",
        "# Tiến hành chia dữ liệu\n",
        "from sklearn.model_selection import train_test_split\n",
        "\n",
        "# Các model \n",
        "from sklearn.tree import DecisionTreeClassifier\n",
        "from sklearn.ensemble import RandomForestClassifier\n",
        "from sklearn.linear_model import LogisticRegression\n",
        "\n",
        "# Đánh giá các model\n",
        "from sklearn.model_selection import StratifiedKFold\n",
        "from sklearn.model_selection import cross_val_score\n",
        "from sklearn.metrics import confusion_matrix\n",
        "from sklearn.metrics import classification_report"
      ],
      "execution_count": 201,
      "outputs": []
    },
    {
      "cell_type": "markdown",
      "metadata": {
        "id": "pNSUJPGCz7A4",
        "colab_type": "text"
      },
      "source": [
        "##**Load data từ Google Drive và tiền xử lí nó**"
      ]
    },
    {
      "cell_type": "markdown",
      "metadata": {
        "id": "iKqx1O090EV3",
        "colab_type": "text"
      },
      "source": [
        "###**Lấy đường dẫn file chưa data và khởi tạo 2 list data và label**\n",
        "\n",
        "- Dùng hàm list_images của thư viện paths để lấy tất cả link của ảnh chứa trong folder \n",
        "- Biến Mask  và Without_mask dùng để đếm số lượng từng loại trong dataset"
      ]
    },
    {
      "cell_type": "code",
      "metadata": {
        "id": "3FS_R5rxvkr7",
        "colab_type": "code",
        "colab": {
          "base_uri": "https://localhost:8080/",
          "height": 34
        },
        "outputId": "755b32ef-11ed-42e2-b0bd-545fd34c6dce"
      },
      "source": [
        "# load dataset \n",
        "print(\" loading images...\")\n",
        "\n",
        "# lấy link ảnh có khẩu trang và không có khẩu trang\n",
        "imagePaths_Mask = list(paths.list_images('/content/drive/My Drive/CS114/FaceMask/FaceMask_MachineLearning/Datasets/Mask/with_mask'))\n",
        "imagePaths_No_Mask =  list(paths.list_images('/content/drive/My Drive/CS114/FaceMask/FaceMask_MachineLearning/Datasets/Without_Mask/Without_mask'))\n",
        "\n",
        "# hợp nhất 2 link vào 1 file\n",
        "imagePaths = imagePaths_Mask + imagePaths_No_Mask\n",
        "\n",
        "# khởi tạo dữ liệu\n",
        "data = []\n",
        "\n",
        "# khởi tạo label ứng với dữ liệu\n",
        "labels = []"
      ],
      "execution_count": 202,
      "outputs": [
        {
          "output_type": "stream",
          "text": [
            " loading images...\n"
          ],
          "name": "stdout"
        }
      ]
    },
    {
      "cell_type": "markdown",
      "metadata": {
        "id": "vKdNLEZl0OGc",
        "colab_type": "text"
      },
      "source": [
        "##**Load từng ảnh từ file và preprocess nó**\n",
        "- Load hình ảnh từ link đã lấy được \n",
        "- Sử dụng ImageDataGenerator để tăng số ảnh (2 ảnh)\n",
        "- Ở mỗi ảnh được tạo ra : \n",
        "  - Tiến hành resize ảnh về 32x32 nhằm giảm số lượng feature cho model \n",
        "  - Biến đổi ảnh này từ mảng 3 chiều thành 1 vector bằng hàm flatten của 32x32 thư viện numpy\n",
        "  - ứng với mỗi giá trị trong vector sẽ là 1 feature trong model"
      ]
    },
    {
      "cell_type": "markdown",
      "metadata": {
        "id": "rD3mDDSJNBdb",
        "colab_type": "text"
      },
      "source": [
        "###**Fine-turning hàm ImageDataGenerator**\n",
        "- rotation_range : góc quay ( 0 - 20 )\n",
        "- zoom_range : độ phóng  (0 - 0.15)\n",
        "- width_shift_range, height_shift_range : độ dịch ảnh (0 - 0.2)\n",
        "- horizontal_flip : lật ảnh theo chiều ngang"
      ]
    },
    {
      "cell_type": "code",
      "metadata": {
        "id": "0K7XXrsT01pU",
        "colab_type": "code",
        "colab": {}
      },
      "source": [
        "# Sử dụng kỹ thuật Data Augmentation để tăng kích thước cho bộ train data\n",
        "aug = ImageDataGenerator(\n",
        "\trotation_range=20,\n",
        "\tzoom_range=0.15,\n",
        "\twidth_shift_range=0.2,\n",
        "\theight_shift_range=0.2,\n",
        "\thorizontal_flip=True )"
      ],
      "execution_count": 203,
      "outputs": []
    },
    {
      "cell_type": "markdown",
      "metadata": {
        "id": "OW9uS2C2OAan",
        "colab_type": "text"
      },
      "source": [
        "###**Hàm load ảnh và tiền xử lí ảnh**\n",
        "- Tiến hành chia đường dẫn ra thành các ký tự và lấy nhãn ra \n",
        "- Đọc hình ảnh từ link\n",
        "- Tăng số chiều cho ảnh vừa đọc để phù hợp với input của hàm ImageDataGenerator\n",
        "- Dùng hàm flow của ImageDataGenerator để tiến hành tăng dữ liệu \n",
        "- Ở bài này với mỗi ảnh được load sẽ được tăng thành 2 ảnh khác nhau :\n",
        "  - Giảm chiều ảnh được tăng \n",
        "  - resize các ảnh được tăng về 32 x 32 \n",
        "  - Làm phẳng ảnh thành vector\n",
        "- Đẩy label và ảnh vào data và labels\n"
      ]
    },
    {
      "cell_type": "code",
      "metadata": {
        "id": "SHR4Lj9NvwJo",
        "colab_type": "code",
        "colab": {}
      },
      "source": [
        "# Vòng lặp để load dữ liệu \n",
        "\n",
        "for imagePath in imagePaths:\n",
        "\t# lấy nhãn từ đường dẫn tệp\n",
        "\tlabel = imagePath.split(\"/\")[-2]\n",
        "\t\n",
        "\t# load hình ảnh \n",
        "\timage = cv2.imread(imagePath)\n",
        "\t\n",
        "\t# Tăng số chiều cho ảnh , để phù hợp với hàm ImageDataGenerator\n",
        "\timage = np.expand_dims(image, axis=0)\n",
        "\t\n",
        "\t# Sử dụng hàm flow để tăng dữ liệu\n",
        "\taugImage = aug.flow(image)\t\n",
        " \n",
        "\t# Đổi label sang dạng số \n",
        "\tif (label == \"with_mask\"):\n",
        "\t\tlabel = 1\n",
        "\telse:\n",
        "\t\tlabel = 0\n",
        "\n",
        "\t# Sử dụng hàm ImageDataGenerator để tăng 2 ảnh tương ứng với mỗi ảnh \n",
        "\ti = 1\n",
        "\tfor img  in augImage:\n",
        "\t\t# giảm chiều đã tăng , resize ảnh về (32,32) và làm phẳng ảnh \n",
        "\t\timg = cv2.resize(img[0],(32,32)).flatten()\n",
        "\t \n",
        "\t \t# đẩy dữ liệu vào data và labels\n",
        "\t\tdata.append(img)\n",
        "\t\tlabels.append(label)\n",
        "\n",
        "\t\t# Tăng 2 ảnh \n",
        "\t\tif (i == 2):\n",
        "\t\t\ti = 1\n",
        "\t\t\tbreak\n",
        "\t\ti += 1\n"
      ],
      "execution_count": 204,
      "outputs": []
    },
    {
      "cell_type": "markdown",
      "metadata": {
        "id": "RRVAJAANzyql",
        "colab_type": "text"
      },
      "source": [
        "##**Chuyển data và label sang dạng mảng**"
      ]
    },
    {
      "cell_type": "code",
      "metadata": {
        "id": "h-JLUE0Vv7le",
        "colab_type": "code",
        "colab": {
          "base_uri": "https://localhost:8080/",
          "height": 151
        },
        "outputId": "a4482508-ea7c-4e60-e06e-032279ffd3a1"
      },
      "source": [
        "# chuyển label và data sang dạng mảng \n",
        "labels = np.array(labels)\n",
        "data = np.array(data)\n",
        "\n",
        "print(data)\n",
        "print(data.shape)"
      ],
      "execution_count": 205,
      "outputs": [
        {
          "output_type": "stream",
          "text": [
            "[[ 89.        83.       100.       ...  51.        48.        50.      ]\n",
            " [ 66.35162   62.35163   74.35162  ...  59.        45.79605   47.79605 ]\n",
            " [ 87.75025  127.0006   202.0009   ... 133.04822  125.43568  151.20032 ]\n",
            " ...\n",
            " [118.205795 138.50725  185.42613  ...  33.969776  33.122807  54.7139  ]\n",
            " [ 88.09506  104.858765 134.62248  ... 107.62648  110.64119  189.84006 ]\n",
            " [112.77849  132.10146  159.07956  ...  38.130226  32.55661  138.71698 ]]\n",
            "(2068, 3072)\n"
          ],
          "name": "stdout"
        }
      ]
    },
    {
      "cell_type": "markdown",
      "metadata": {
        "id": "2vQh5dTkEare",
        "colab_type": "text"
      },
      "source": [
        "##**Biểu đồ thể hiện số lượng data**"
      ]
    },
    {
      "cell_type": "code",
      "metadata": {
        "id": "6O9VJYBtDQwx",
        "colab_type": "code",
        "colab": {
          "base_uri": "https://localhost:8080/",
          "height": 313
        },
        "outputId": "e6a3f8ba-6c95-4692-dd96-eb31c3a39228"
      },
      "source": [
        "# Đếm số lượng label có trong dataset\n",
        "Without_mask = data[labels == 0].shape[0]\n",
        "Mask =  data[labels == 1].shape[0]\n",
        "\n",
        "print(Without_mask)\n",
        "# Biểu đồ thể hiện số lượng data \n",
        "Label = [\"Mask\",\"Without_mask\"]\n",
        "Values = [Mask,Without_mask]\n",
        "\n",
        "plt.bar(Label,Values)\n",
        "plt.title(\"Dataset\")\n",
        "plt.xlabel(\"Label\")\n",
        "plt.ylabel(\"Values\")\n",
        "\n",
        "plt.show()"
      ],
      "execution_count": 206,
      "outputs": [
        {
          "output_type": "stream",
          "text": [
            "1050\n"
          ],
          "name": "stdout"
        },
        {
          "output_type": "display_data",
          "data": {
            "image/png": "[encoded data removed]",
            "text/plain": [
              "<Figure size 432x288 with 1 Axes>"
            ]
          },
          "metadata": {
            "tags": [],
            "needs_background": "light"
          }
        }
      ]
    },
    {
      "cell_type": "markdown",
      "metadata": {
        "id": "8SR7e3pCzsw_",
        "colab_type": "text"
      },
      "source": [
        "##**Chia dữ liệu thành 2 phần train và test**\n",
        "- Chia data thành 2 phần nhằm đánh giá model \n",
        "- 80 % : dùng để train và validation qua phương pháp k-fold\n",
        "- 20 % : để đánh giá lại model đã chọn được sau khi sử dụng k-fold\n"
      ]
    },
    {
      "cell_type": "code",
      "metadata": {
        "id": "HVkhpzTYwI5-",
        "colab_type": "code",
        "colab": {}
      },
      "source": [
        "# chia đữ liệu thành 80% để train, validation bằng K-Fold và 20% để test\n",
        "(trainX, testX, trainY, testY) = train_test_split(data, labels, test_size=0.2,stratify=labels,random_state=1)"
      ],
      "execution_count": 207,
      "outputs": []
    },
    {
      "cell_type": "code",
      "metadata": {
        "id": "5Kk-xK_NwMe2",
        "colab_type": "code",
        "colab": {
          "base_uri": "https://localhost:8080/",
          "height": 265
        },
        "outputId": "b0afc77e-8843-4d43-f65f-8aee416de14f"
      },
      "source": [
        "# Đếm các nhãn trong tập train\n",
        "Without_mask_train = trainX[trainY == 0].shape[0]\n",
        "Mask_train =  trainX[trainY == 1].shape[0]\n",
        "\n",
        "# Đếm các nhãn trong tập test\n",
        "Without_mask_test = testX[testY == 0].shape[0]\n",
        "Mask_test =testX[testY == 1].shape[0]\n",
        "\n",
        "# Biểu đồ thể hiện số lượng data \n",
        "Label = [\"Train\",\"Test\"]\n",
        "Values_without_mask = [Without_mask_train,Without_mask_test]\n",
        "Values_mask = [Mask_train,Mask_test]\n",
        "\n",
        "index = np.arange(2)\n",
        "width = 0.3\n",
        "\n",
        "plt.bar(index,Values_without_mask,width,color = 'red',label = 'Without_mask')\n",
        "plt.bar(index+width , Values_mask, width, color = 'blue', label = \"Mask\")\n",
        "\n",
        "plt.xticks(index + width/2 , Label)\n",
        "plt.legend()\n",
        "plt.show()"
      ],
      "execution_count": 208,
      "outputs": [
        {
          "output_type": "display_data",
          "data": {
            "image/png": "[encoded data removed]",
            "text/plain": [
              "<Figure size 432x288 with 1 Axes>"
            ]
          },
          "metadata": {
            "tags": [],
            "needs_background": "light"
          }
        }
      ]
    },
    {
      "cell_type": "markdown",
      "metadata": {
        "id": "UL7k8zelzkvx",
        "colab_type": "text"
      },
      "source": [
        "\n",
        "##**Training và đánh giá model**\n",
        "- Chọn model thuộc Binary Classification bởi vì label có dạng 0 và 1 \n",
        "- Các model Binary Classification được sử dụng trong bài :\n",
        "  -  Decision Tree\n",
        "  - Random Forest\n",
        "  - Logictic Regression\n",
        "- Do dataset khá ít (2000 ảnh), vì thế sử dụng phương pháp Cross-validation để đánh giá các model được chọn . Cụ thể trong bài toán này sử dụng K - Fold\n",
        "- Chọn ra model có accuracy cao nhất sau khi sử dụng K-Fold\n",
        "- Tiến hành training và đánh giá model này thông qua hàm confusion_matrix và classification_report của thư viện sklearn\n"
      ]
    },
    {
      "cell_type": "markdown",
      "metadata": {
        "id": "uXTSyMrAXvim",
        "colab_type": "text"
      },
      "source": [
        "###**Khởi tạo các model được chọn**"
      ]
    },
    {
      "cell_type": "code",
      "metadata": {
        "id": "_Yx3_wQtcTRK",
        "colab_type": "code",
        "colab": {}
      },
      "source": [
        "# khởi tạo các model được dùng \n",
        "models = []\n",
        "models.append(('LR', LogisticRegression(solver='liblinear', multi_class='ovr')))\n",
        "models.append(('DT', DecisionTreeClassifier()))\n",
        "models.append(('RF',RandomForestClassifier()))"
      ],
      "execution_count": 209,
      "outputs": []
    },
    {
      "cell_type": "markdown",
      "metadata": {
        "id": "sjIL_rcbX23B",
        "colab_type": "text"
      },
      "source": [
        "###**Sử dụng K-Fold để đánh giá model**\n",
        "- K-Fold là phương pháp chia bộ dữ liệu thành K phần\n",
        "- Sẽ có K lần train\n",
        "- Trong mỗi lần train , 1 phần sẽ được dùng để đánh giá và K - 1 phần còn lại dùng để train\n",
        "- Cụ thể bài toán sử dụng 10 - Fold\n",
        "- Fine-turning cho hàm StratifiedKFold :\n",
        "  - n_splits=10 : chia tập train thành 10 phần\n",
        "  - random_state=1 : chọn ngẫu nhiên để chia vào các phần\n",
        "  - shuffle=True : xáo trộn tập train trước khi chia\n",
        "- Fine-turning cho cross_val_score :\n",
        "  - model, trainX, trainY : đưa vào model cộng tập dữ liệu \n",
        "  - cv=kfold : chọn phương pháp k-fold\n",
        "  - scoring = 'accuracy' : chọn score là độ chính xác của model"
      ]
    },
    {
      "cell_type": "code",
      "metadata": {
        "id": "u5hrJB3NcmF2",
        "colab_type": "code",
        "colab": {
          "base_uri": "https://localhost:8080/",
          "height": 67
        },
        "outputId": "3b875c11-127b-48da-9a9a-f2abd237ba20"
      },
      "source": [
        "# Sử dụng hàm StratifiedKFold của sklearn để train và test model \n",
        "results = []\n",
        "names = []\n",
        "\n",
        "# Vòng lặp để tiến hành train và validation cho mỗi model\n",
        "for name,model in models:\n",
        "\n",
        "  # Fine-turning cho hàm StratifiedKFold\n",
        "  kfold = StratifiedKFold(n_splits=10, random_state=1, shuffle=True)\n",
        "\n",
        "  # Đánh giá model bằng phương pháp cross-validation\n",
        "  cv_results = cross_val_score(model, trainX, trainY, cv=kfold, scoring='accuracy')\n",
        "\n",
        "  # đẩy kết quả vào results\n",
        "  results.append(cv_results)\n",
        "  names.append(name)\n",
        "\n",
        "  # Xuất ra giá trị trung bình của results \n",
        "  print('%s: %f ' % (name, cv_results.mean()))"
      ],
      "execution_count": 210,
      "outputs": [
        {
          "output_type": "stream",
          "text": [
            "LR: 0.850628 \n",
            "DT: 0.813782 \n",
            "RF: 0.906261 \n"
          ],
          "name": "stdout"
        }
      ]
    },
    {
      "cell_type": "markdown",
      "metadata": {
        "id": "wvQLMlExXcad",
        "colab_type": "text"
      },
      "source": [
        "###**Biểu đồ đánh giá kết quả**\n",
        "- Dễ dàng quan sát các các giá trị result của mỗi lần train trong K-Fold"
      ]
    },
    {
      "cell_type": "code",
      "metadata": {
        "id": "X3Q3L7OjdTNB",
        "colab_type": "code",
        "colab": {
          "base_uri": "https://localhost:8080/",
          "height": 281
        },
        "outputId": "a1b23431-01b3-421a-c001-5dc65d25db2d"
      },
      "source": [
        "# Biểu đồ xem xét kết quả sau khi dùng K-Fold\n",
        "pyplot.boxplot(results, labels=names)\n",
        "pyplot.title('So sánh các thuật toán')\n",
        "pyplot.show()"
      ],
      "execution_count": 211,
      "outputs": [
        {
          "output_type": "display_data",
          "data": {
            "image/png": "[encoded data removed]",
            "text/plain": [
              "<Figure size 432x288 with 1 Axes>"
            ]
          },
          "metadata": {
            "tags": [],
            "needs_background": "light"
          }
        }
      ]
    },
    {
      "cell_type": "markdown",
      "metadata": {
        "id": "FNm9bpXNWATD",
        "colab_type": "text"
      },
      "source": [
        "###**Đánh giá model Random Forest**\n",
        "- Accuracy của model Random Forest khá cao\n",
        "- Như kết quả ta có thể thấy accuracy trên tập test và tập train không chênh lệch nhau quá nhiều vì thế model có thể chấp nhận được\n",
        "- Ở ma trận nhầm lẫn :\n",
        "  - Model đều dự đoán khá chính xác ở cả 2 nhãn\n",
        "  - Model dự đoán False Positive cao hơn False Negative ở bài này là chấp nhận được vì thà dự đoán nhầm 1 người đeo khẩu trang thành không đeo còn hơn dự đoán sai một người không đeo khẩu trang thành có đeo sẽ gây ra thiệt hại cao hơn"
      ]
    },
    {
      "cell_type": "code",
      "metadata": {
        "id": "sNdDSyL5ecxU",
        "colab_type": "code",
        "colab": {
          "base_uri": "https://localhost:8080/",
          "height": 202
        },
        "outputId": "792e4458-7e7a-42ca-b0a5-47553f51bd1e"
      },
      "source": [
        "# Chọn RandomForest làm model để đánh giá trên tập test\n",
        "model = RandomForestClassifier()\n",
        "model.fit(trainX, trainY)\n",
        "predictions = model.predict(testX)\n",
        "\n",
        "# Đánh giá model\n",
        "print(confusion_matrix(testY, predictions))\n",
        "print(classification_report(testY, predictions))"
      ],
      "execution_count": 212,
      "outputs": [
        {
          "output_type": "stream",
          "text": [
            "[[200  10]\n",
            " [ 30 174]]\n",
            "              precision    recall  f1-score   support\n",
            "\n",
            "           0       0.87      0.95      0.91       210\n",
            "           1       0.95      0.85      0.90       204\n",
            "\n",
            "    accuracy                           0.90       414\n",
            "   macro avg       0.91      0.90      0.90       414\n",
            "weighted avg       0.91      0.90      0.90       414\n",
            "\n"
          ],
          "name": "stdout"
        }
      ]
    },
    {
      "cell_type": "markdown",
      "metadata": {
        "id": "FqI-MeM_zd-V",
        "colab_type": "text"
      },
      "source": [
        "##**Save Model**\n",
        "- Lưu model để thuận tiện cho việc sử dụng"
      ]
    },
    {
      "cell_type": "code",
      "metadata": {
        "id": "nl5CGdQTxyQP",
        "colab_type": "code",
        "colab": {}
      },
      "source": [
        "import pickle\n",
        "f = open('/content/drive/My Drive/CS114/FaceMask/FaceMask_MachineLearning/Model/Model_FaceMask.pkl', 'wb')\n",
        "pickle.dump(model, f)"
      ],
      "execution_count": 214,
      "outputs": []
    },
    {
      "cell_type": "markdown",
      "metadata": {
        "id": "bVDxcJsdid_v",
        "colab_type": "text"
      },
      "source": [
        "##**Link tham khảo**\n",
        "- https://towardsdatascience.com/classifying-cat-pics-with-a-logistic-regression-model-e35dfb9159bb\n",
        "- https://numpy.org/doc/stable/reference/generated/numpy.ndarray.flatten.html\n",
        "- https://scikit-learn.org/stable/modules/cross_validation.html\n"
      ]
    }
  ]
}